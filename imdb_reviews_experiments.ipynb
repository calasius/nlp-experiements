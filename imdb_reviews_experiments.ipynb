{
 "cells": [
  {
   "cell_type": "code",
   "execution_count": 5,
   "metadata": {
    "id": "yhjvU1ldP29D"
   },
   "outputs": [],
   "source": [
    "import torch\n",
    "import tensorflow_datasets as tfds\n",
    "from nltk import word_tokenize          \n",
    "from nltk.stem import WordNetLemmatizer\n",
    "import nltk\n",
    "from sklearn import (\n",
    "    model_selection, datasets, feature_extraction, pipeline, naive_bayes, metrics, svm, \n",
    "    decomposition, preprocessing, ensemble, utils, linear_model\n",
    ")\n",
    "import matplotlib.pyplot as plt\n",
    "import torch"
   ]
  },
  {
   "cell_type": "code",
   "execution_count": 2,
   "metadata": {
    "id": "JKDp6kxnQA-e",
    "scrolled": true
   },
   "outputs": [],
   "source": [
    "ds = tfds.load(name='imdb_reviews', split='train', shuffle_files=True)"
   ]
  },
  {
   "cell_type": "code",
   "execution_count": 3,
   "metadata": {
    "id": "MYm6HGnjTLi2"
   },
   "outputs": [],
   "source": [
    "ds_test = tfds.load(name='imdb_reviews', split='test', shuffle_files=True)"
   ]
  },
  {
   "cell_type": "code",
   "execution_count": 4,
   "metadata": {
    "id": "UFSr0EyDRgUZ"
   },
   "outputs": [],
   "source": [
    "def get_dataset_data(ds):\n",
    "  text_list = []\n",
    "  labels = []\n",
    "  for example in ds:\n",
    "    text_list.append(example['text'].numpy().decode('UTF-8'))\n",
    "    labels.append(example['label'].numpy())\n",
    "\n",
    "  return text_list, labels"
   ]
  },
  {
   "cell_type": "code",
   "execution_count": 5,
   "metadata": {
    "id": "KzNPI_EqR6BR"
   },
   "outputs": [],
   "source": [
    "train_text_list, train_labels = get_dataset_data(ds)"
   ]
  },
  {
   "cell_type": "code",
   "execution_count": 6,
   "metadata": {
    "id": "N4wDaogpSFHy"
   },
   "outputs": [],
   "source": [
    "test_text_list, test_labels = get_dataset_data(ds_test)"
   ]
  },
  {
   "cell_type": "code",
   "execution_count": 7,
   "metadata": {
    "id": "_R-Q4XYOBxlY"
   },
   "outputs": [],
   "source": [
    "stop_words = nltk.corpus.stopwords.words('english')"
   ]
  },
  {
   "cell_type": "code",
   "execution_count": 8,
   "metadata": {
    "id": "JD7W13gQDQl-"
   },
   "outputs": [],
   "source": [
    "def tokenize_text(text):\n",
    "    tokens = []\n",
    "    for word in word_tokenize(text):\n",
    "            if len(word) < 2 or word.lower() in stop_words:\n",
    "                continue\n",
    "            tokens.append(word.lower())\n",
    "    return tokens"
   ]
  },
  {
   "cell_type": "code",
   "execution_count": 9,
   "metadata": {
    "id": "ggmgzt3HFWW9"
   },
   "outputs": [],
   "source": [
    "class LemmaTokenizer(object):\n",
    "    def __init__(self):\n",
    "        self.wnl = WordNetLemmatizer()\n",
    "    def __call__(self, articles):\n",
    "        return [self.wnl.lemmatize(t) for t in tokenize_text(articles)]"
   ]
  },
  {
   "cell_type": "code",
   "execution_count": 10,
   "metadata": {
    "id": "WlPt6BTFDkhW"
   },
   "outputs": [],
   "source": [
    "lemma_tokenizer = LemmaTokenizer()\n",
    "\n",
    "train_text_tokens = []\n",
    "for text in train_text_list:\n",
    "  train_text_tokens.append(tokenize_text(text))"
   ]
  },
  {
   "cell_type": "code",
   "execution_count": 11,
   "metadata": {
    "id": "Paz-kjd8IHX2"
   },
   "outputs": [],
   "source": [
    "test_text_tokens = []\n",
    "for text in test_text_list:\n",
    "  test_text_tokens.append(tokenize_text(text))\n"
   ]
  },
  {
   "cell_type": "code",
   "execution_count": 12,
   "metadata": {
    "id": "gEQvN8XRI_bH"
   },
   "outputs": [],
   "source": [
    "model = pipeline.Pipeline([\n",
    "    ('counts', feature_extraction.text.CountVectorizer(\n",
    "        lowercase=True,\n",
    "        tokenizer=LemmaTokenizer(),\n",
    "        min_df=2,\n",
    "        ngram_range=(1,2),\n",
    "    )),\n",
    "    ('tfidf', feature_extraction.text.TfidfTransformer()),\n",
    "    ('svm', svm.LinearSVC())\n",
    "]\n",
    ")"
   ]
  },
  {
   "cell_type": "code",
   "execution_count": 13,
   "metadata": {
    "id": "yKcaGqIFJlz7"
   },
   "outputs": [
    {
     "data": {
      "text/plain": [
       "Pipeline(steps=[('counts',\n",
       "                 CountVectorizer(min_df=2, ngram_range=(1, 2),\n",
       "                                 tokenizer=<__main__.LemmaTokenizer object at 0x10c3c5250>)),\n",
       "                ('tfidf', TfidfTransformer()), ('svm', LinearSVC())])"
      ]
     },
     "execution_count": 13,
     "metadata": {},
     "output_type": "execute_result"
    }
   ],
   "source": [
    "model.fit(train_text_list, train_labels)"
   ]
  },
  {
   "cell_type": "code",
   "execution_count": 14,
   "metadata": {
    "id": "vQ1lQjuJJ5b5"
   },
   "outputs": [
    {
     "name": "stdout",
     "output_type": "stream",
     "text": [
      "f1_score = 0.89\n"
     ]
    },
    {
     "data": {
      "image/png": "[encoded data removed]",
      "text/plain": [
       "<Figure size 720x720 with 2 Axes>"
      ]
     },
     "metadata": {
      "needs_background": "light"
     },
     "output_type": "display_data"
    }
   ],
   "source": [
    "y_pred = model.predict(test_text_list)\n",
    "\n",
    "fig, ax = plt.subplots(figsize=(10, 10))\n",
    "metrics.plot_confusion_matrix(model, test_text_list, test_labels, ax = ax, cmap='Blues', normalize='true', values_format='.2f')\n",
    "\n",
    "score = metrics.f1_score(test_labels, y_pred, average='weighted')\n",
    "\n",
    "print(f'f1_score = {score:.2f}')"
   ]
  },
  {
   "cell_type": "code",
   "execution_count": 13,
   "metadata": {
    "id": "zNi7VBqDKhPG"
   },
   "outputs": [],
   "source": [
    "from gensim.models.wrappers import FastText\n",
    "import gensim"
   ]
  },
  {
   "cell_type": "code",
   "execution_count": 14,
   "metadata": {
    "id": "eKXDT170RZvV"
   },
   "outputs": [
    {
     "name": "stdout",
     "output_type": "stream",
     "text": [
      "--2021-04-30 20:25:57--  https://dl.fbaipublicfiles.com/fasttext/vectors-english/wiki-news-300d-1M-subword.vec.zip\n",
      "Resolving dl.fbaipublicfiles.com (dl.fbaipublicfiles.com)... 172.67.9.4, 104.22.75.142, 104.22.74.142\n",
      "Connecting to dl.fbaipublicfiles.com (dl.fbaipublicfiles.com)|172.67.9.4|:443... connected.\n",
      "HTTP request sent, awaiting response... 200 OK\n",
      "Length: 587879973 (561M) [application/zip]\n",
      "Saving to: ‘wiki-news-300d-1M-subword.vec.zip.2’\n",
      "\n",
      "wiki-news-300d-1M-s 100%[===================>] 560.65M  4.51MB/s    in 2m 17s  \n",
      "\n",
      "2021-04-30 20:28:16 (4.08 MB/s) - ‘wiki-news-300d-1M-subword.vec.zip.2’ saved [587879973/587879973]\n",
      "\n"
     ]
    }
   ],
   "source": [
    "!wget https://dl.fbaipublicfiles.com/fasttext/vectors-english/wiki-news-300d-1M-subword.vec.zip"
   ]
  },
  {
   "cell_type": "code",
   "execution_count": 15,
   "metadata": {
    "id": "sxa99opuP3_L"
   },
   "outputs": [
    {
     "name": "stdout",
     "output_type": "stream",
     "text": [
      "Archive:  wiki-news-300d-1M-subword.vec.zip\n",
      "replace wiki-news-300d-1M-subword.vec? [y]es, [n]o, [A]ll, [N]one, [r]ename: ^C\n"
     ]
    }
   ],
   "source": [
    "!unzip wiki-news-300d-1M-subword.vec.zip"
   ]
  },
  {
   "cell_type": "code",
   "execution_count": 16,
   "metadata": {
    "id": "amrmrue5TKoO"
   },
   "outputs": [],
   "source": [
    "import gensim.models.wrappers.fasttext\n",
    "model = gensim.models.KeyedVectors.load_word2vec_format('wiki-news-300d-1M-subword.vec', binary=False, encoding='utf8')"
   ]
  },
  {
   "cell_type": "code",
   "execution_count": 17,
   "metadata": {
    "id": "M9nkjM83TqRg"
   },
   "outputs": [
    {
     "name": "stderr",
     "output_type": "stream",
     "text": [
      "<ipython-input-17-aa19759b2b96>:1: DeprecationWarning: Call to deprecated `wv` (Attribute will be removed in 4.0.0, use self instead).\n",
      "  word_vectors = model.wv\n"
     ]
    }
   ],
   "source": [
    "word_vectors = model.wv"
   ]
  },
  {
   "cell_type": "code",
   "execution_count": 18,
   "metadata": {
    "id": "nPEQiBicXnbc"
   },
   "outputs": [],
   "source": [
    "del model"
   ]
  },
  {
   "cell_type": "code",
   "execution_count": 19,
   "metadata": {
    "id": "TJXwEFH3Xq55"
   },
   "outputs": [
    {
     "data": {
      "text/plain": [
       "[('hello', 0.6933997869491577),\n",
       " ('heyy', 0.6434062719345093),\n",
       " ('heyyy', 0.6397197246551514),\n",
       " ('hiya', 0.6382022500038147),\n",
       " ('heyyyy', 0.6244087219238281),\n",
       " ('Hi', 0.622696042060852),\n",
       " ('hiiii', 0.6143085956573486),\n",
       " ('hey', 0.6041119694709778),\n",
       " ('Heyyy', 0.6016119718551636),\n",
       " ('hey.', 0.6001185178756714)]"
      ]
     },
     "execution_count": 19,
     "metadata": {},
     "output_type": "execute_result"
    }
   ],
   "source": [
    "word_vectors.most_similar('hi')"
   ]
  },
  {
   "cell_type": "code",
   "execution_count": 20,
   "metadata": {
    "id": "hH7qWSR9YDB0"
   },
   "outputs": [],
   "source": [
    "train_reviews_word_embeddings = []\n",
    "\n",
    "for tokens in train_text_tokens:\n",
    "  review_word_embeddings = []\n",
    "  for token in tokens:\n",
    "    try:\n",
    "      review_word_embeddings.append(word_vectors[token])\n",
    "    except:\n",
    "      pass\n",
    "  train_reviews_word_embeddings.append(torch.tensor(review_word_embeddings))"
   ]
  },
  {
   "cell_type": "code",
   "execution_count": 21,
   "metadata": {
    "id": "2h0OH4Xmav3G"
   },
   "outputs": [],
   "source": [
    "test_reviews_word_embeddings = []\n",
    "\n",
    "for tokens in test_text_tokens:\n",
    "  review_word_embeddings = []\n",
    "  for token in tokens:\n",
    "    try:\n",
    "      review_word_embeddings.append(word_vectors[token])\n",
    "    except:\n",
    "      pass\n",
    "  test_reviews_word_embeddings.append(torch.tensor(review_word_embeddings))"
   ]
  },
  {
   "cell_type": "code",
   "execution_count": 22,
   "metadata": {
    "id": "6_apjlccbFeM"
   },
   "outputs": [],
   "source": [
    "train = torch.nn.utils.rnn.pad_sequence(train_reviews_word_embeddings + test_reviews_word_embeddings, batch_first=True)"
   ]
  },
  {
   "cell_type": "code",
   "execution_count": 23,
   "metadata": {
    "id": "9D5hLeJ3tKK7"
   },
   "outputs": [
    {
     "data": {
      "text/plain": [
       "torch.Size([50000, 1418, 300])"
      ]
     },
     "execution_count": 23,
     "metadata": {},
     "output_type": "execute_result"
    }
   ],
   "source": [
    "train.shape"
   ]
  },
  {
   "cell_type": "code",
   "execution_count": 24,
   "metadata": {},
   "outputs": [],
   "source": [
    "X_train = train[:25000]"
   ]
  },
  {
   "cell_type": "code",
   "execution_count": 25,
   "metadata": {},
   "outputs": [
    {
     "data": {
      "text/plain": [
       "torch.Size([25000, 1418, 300])"
      ]
     },
     "execution_count": 25,
     "metadata": {},
     "output_type": "execute_result"
    }
   ],
   "source": [
    "X_train.shape"
   ]
  },
  {
   "cell_type": "code",
   "execution_count": 26,
   "metadata": {},
   "outputs": [],
   "source": [
    "X_test = train[25000:]"
   ]
  },
  {
   "cell_type": "code",
   "execution_count": 27,
   "metadata": {},
   "outputs": [
    {
     "data": {
      "text/plain": [
       "torch.Size([25000, 1418, 300])"
      ]
     },
     "execution_count": 27,
     "metadata": {},
     "output_type": "execute_result"
    }
   ],
   "source": [
    "X_test.shape"
   ]
  },
  {
   "cell_type": "code",
   "execution_count": 6,
   "metadata": {},
   "outputs": [],
   "source": [
    "from torch import nn\n",
    "import torch.nn.functional as F"
   ]
  },
  {
   "cell_type": "code",
   "execution_count": 13,
   "metadata": {},
   "outputs": [],
   "source": [
    "kernels = [2,3,4,5]\n",
    "out_channels = 30\n",
    "in_channels = 1\n",
    "pads = [(0,0,1,0), (0,0,1,1), (0,0,2,1), (0,0,2,2)]\n",
    "sentence_len = 1418\n",
    "word_embedding_len = 300"
   ]
  },
  {
   "cell_type": "code",
   "execution_count": 32,
   "metadata": {},
   "outputs": [],
   "source": [
    "class TextCNN(nn.Module):\n",
    "    \n",
    "    def __init__(self, kernels, out_channels, in_channels, pads, sentence_len, word_embedding_len):\n",
    "        \n",
    "        self.kernels = kernels\n",
    "        self.out_channels = out_channels\n",
    "        self.in_channels = in_channels\n",
    "        self.pads = pads\n",
    "        self.sentence_len = sentence_len\n",
    "        self.word_embedding_len = word_embedding_len\n",
    "        \n",
    "        super(TextCNN, self).__init__()\n",
    "        \n",
    "        \n",
    "        self.convs = [nn.Conv2d(self.in_channels, self.out_channels, (self.kernels[0], self.word_embedding_len))\n",
    "        , nn.Conv2d(self.in_channels, self.out_channels, (self.kernels[1], self.word_embedding_len))\n",
    "        , nn.Conv2d(self.in_channels, self.out_channels, (self.kernels[2], self.word_embedding_len))\n",
    "        , nn.Conv2d(self.in_channels, self.out_channels, (self.kernels[3], self.word_embedding_len))]\n",
    "        \n",
    "        self.label = nn.Linear(len(kernels)*out_channels, 1)\n",
    "        \n",
    "        \n",
    "    def conv_block(self, input, conv_num):\n",
    "        conv_out = self.convs[conv_num](F.pad(input, self.pads[conv_num])).squeeze()\n",
    "        activation = F.relu(conv_out)\n",
    "        max_out = F.max_pool1d(activation, activation.size()[2])\n",
    "\n",
    "        return max_out\n",
    "                                        \n",
    "                                        \n",
    "    def forward(self, input):\n",
    "        \n",
    "        input = input.unsqueeze(1)\n",
    "        \n",
    "        max0 = self.conv_block(input, 0)\n",
    "        max1 = self.conv_block(input, 1)\n",
    "        max2 = self.conv_block(input, 2)\n",
    "        max3 = self.conv_block(input, 3)\n",
    "        \n",
    "        \n",
    "        all_out = torch.cat((max0, max1, max2, max3), 1).squeeze()\n",
    "                \n",
    "        dropout = F.dropout(all_out)\n",
    "        \n",
    "        return self.label(dropout) "
   ]
  },
  {
   "cell_type": "code",
   "execution_count": 33,
   "metadata": {},
   "outputs": [],
   "source": [
    "model = TextCNN(kernels, out_channels, in_channels, pads, sentence_len, word_embedding_len)"
   ]
  },
  {
   "cell_type": "code",
   "execution_count": 34,
   "metadata": {},
   "outputs": [
    {
     "data": {
      "text/plain": [
       "tensor([[-0.5173],\n",
       "        [-1.7124],\n",
       "        [-3.1247],\n",
       "        [-1.4851],\n",
       "        [ 0.2414],\n",
       "        [-2.2319],\n",
       "        [-1.4078],\n",
       "        [-3.7801],\n",
       "        [-2.7796],\n",
       "        [-2.8123],\n",
       "        [-2.1383],\n",
       "        [-0.2863],\n",
       "        [-2.6031],\n",
       "        [-1.7019],\n",
       "        [-1.2565],\n",
       "        [-2.7556],\n",
       "        [-3.4386],\n",
       "        [-1.6612],\n",
       "        [-2.1990],\n",
       "        [-2.5003]], grad_fn=<AddmmBackward>)"
      ]
     },
     "execution_count": 34,
     "metadata": {},
     "output_type": "execute_result"
    }
   ],
   "source": [
    "model.forward(torch.randn(20, 1450, 300))"
   ]
  },
  {
   "cell_type": "code",
   "execution_count": null,
   "metadata": {},
   "outputs": [],
   "source": []
  }
 ],
 "metadata": {
  "accelerator": "GPU",
  "colab": {
   "name": "imdb_reviews_experiments.ipynb",
   "private_outputs": true,
   "provenance": []
  },
  "kernelspec": {
   "display_name": "Python 3",
   "language": "python",
   "name": "python3"
  },
  "language_info": {
   "codemirror_mode": {
    "name": "ipython",
    "version": 3
   },
   "file_extension": ".py",
   "mimetype": "text/x-python",
   "name": "python",
   "nbconvert_exporter": "python",
   "pygments_lexer": "ipython3",
   "version": "3.8.5"
  }
 },
 "nbformat": 4,
 "nbformat_minor": 4
}
